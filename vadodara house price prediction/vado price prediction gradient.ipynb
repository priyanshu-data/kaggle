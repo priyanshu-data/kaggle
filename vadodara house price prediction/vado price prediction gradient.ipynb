{
 "cells": [
  {
   "cell_type": "code",
   "execution_count": 1,
   "metadata": {},
   "outputs": [],
   "source": [
    "import pandas as pd\n",
    "from sklearn.ensemble import RandomForestRegressor\n",
    "from sklearn.preprocessing import LabelEncoder\n",
    "from sklearn.model_selection import train_test_split\n",
    "from sklearn.preprocessing import StandardScaler\n",
    "import seaborn as sns"
   ]
  },
  {
   "cell_type": "code",
   "execution_count": 2,
   "metadata": {},
   "outputs": [
    {
     "data": {
      "text/html": [
       "<div>\n",
       "<style scoped>\n",
       "    .dataframe tbody tr th:only-of-type {\n",
       "        vertical-align: middle;\n",
       "    }\n",
       "\n",
       "    .dataframe tbody tr th {\n",
       "        vertical-align: top;\n",
       "    }\n",
       "\n",
       "    .dataframe thead th {\n",
       "        text-align: right;\n",
       "    }\n",
       "</style>\n",
       "<table border=\"1\" class=\"dataframe\">\n",
       "  <thead>\n",
       "    <tr style=\"text-align: right;\">\n",
       "      <th></th>\n",
       "      <th>h_type</th>\n",
       "      <th>location</th>\n",
       "      <th>society</th>\n",
       "      <th>size</th>\n",
       "      <th>bathroom</th>\n",
       "      <th>balcony</th>\n",
       "      <th>total_sqft</th>\n",
       "      <th>yr_built</th>\n",
       "      <th>furniture</th>\n",
       "      <th>sale_type</th>\n",
       "      <th>...</th>\n",
       "      <th>college</th>\n",
       "      <th>hospital</th>\n",
       "      <th>population</th>\n",
       "      <th>railway</th>\n",
       "      <th>airport</th>\n",
       "      <th>on_road</th>\n",
       "      <th>air_quality</th>\n",
       "      <th>restaurant</th>\n",
       "      <th>park</th>\n",
       "      <th>price</th>\n",
       "    </tr>\n",
       "  </thead>\n",
       "  <tbody>\n",
       "    <tr>\n",
       "      <th>0</th>\n",
       "      <td>apartment</td>\n",
       "      <td>Maneja</td>\n",
       "      <td>Bakeri Swara</td>\n",
       "      <td>3 BHK</td>\n",
       "      <td>3</td>\n",
       "      <td>1</td>\n",
       "      <td>1550.0</td>\n",
       "      <td>2011.0</td>\n",
       "      <td>0</td>\n",
       "      <td>new</td>\n",
       "      <td>...</td>\n",
       "      <td>0</td>\n",
       "      <td>1</td>\n",
       "      <td>2</td>\n",
       "      <td>0</td>\n",
       "      <td>0</td>\n",
       "      <td>1</td>\n",
       "      <td>1</td>\n",
       "      <td>1</td>\n",
       "      <td>1</td>\n",
       "      <td>4361705</td>\n",
       "    </tr>\n",
       "    <tr>\n",
       "      <th>1</th>\n",
       "      <td>apartment</td>\n",
       "      <td>Maneja</td>\n",
       "      <td>Bakeri Swara</td>\n",
       "      <td>3 BHK</td>\n",
       "      <td>3</td>\n",
       "      <td>1</td>\n",
       "      <td>1550.0</td>\n",
       "      <td>2012.0</td>\n",
       "      <td>1</td>\n",
       "      <td>new</td>\n",
       "      <td>...</td>\n",
       "      <td>0</td>\n",
       "      <td>1</td>\n",
       "      <td>2</td>\n",
       "      <td>0</td>\n",
       "      <td>0</td>\n",
       "      <td>1</td>\n",
       "      <td>1</td>\n",
       "      <td>1</td>\n",
       "      <td>1</td>\n",
       "      <td>5001905</td>\n",
       "    </tr>\n",
       "    <tr>\n",
       "      <th>2</th>\n",
       "      <td>apartment</td>\n",
       "      <td>Maneja</td>\n",
       "      <td>Bakeri Swara</td>\n",
       "      <td>3 BHK</td>\n",
       "      <td>3</td>\n",
       "      <td>1</td>\n",
       "      <td>1860.0</td>\n",
       "      <td>2010.0</td>\n",
       "      <td>1</td>\n",
       "      <td>new</td>\n",
       "      <td>...</td>\n",
       "      <td>0</td>\n",
       "      <td>1</td>\n",
       "      <td>2</td>\n",
       "      <td>0</td>\n",
       "      <td>0</td>\n",
       "      <td>1</td>\n",
       "      <td>1</td>\n",
       "      <td>1</td>\n",
       "      <td>1</td>\n",
       "      <td>5588795</td>\n",
       "    </tr>\n",
       "    <tr>\n",
       "      <th>3</th>\n",
       "      <td>apartment</td>\n",
       "      <td>Maneja</td>\n",
       "      <td>Bakeri Swara</td>\n",
       "      <td>2 BHK</td>\n",
       "      <td>2</td>\n",
       "      <td>1</td>\n",
       "      <td>1015.0</td>\n",
       "      <td>2016.0</td>\n",
       "      <td>1</td>\n",
       "      <td>new</td>\n",
       "      <td>...</td>\n",
       "      <td>0</td>\n",
       "      <td>1</td>\n",
       "      <td>2</td>\n",
       "      <td>0</td>\n",
       "      <td>0</td>\n",
       "      <td>1</td>\n",
       "      <td>1</td>\n",
       "      <td>1</td>\n",
       "      <td>1</td>\n",
       "      <td>3184740</td>\n",
       "    </tr>\n",
       "    <tr>\n",
       "      <th>4</th>\n",
       "      <td>apartment</td>\n",
       "      <td>Maneja</td>\n",
       "      <td>Bakeri Swara</td>\n",
       "      <td>2 BHK</td>\n",
       "      <td>2</td>\n",
       "      <td>1</td>\n",
       "      <td>1210.0</td>\n",
       "      <td>2019.0</td>\n",
       "      <td>0</td>\n",
       "      <td>new</td>\n",
       "      <td>...</td>\n",
       "      <td>0</td>\n",
       "      <td>1</td>\n",
       "      <td>2</td>\n",
       "      <td>0</td>\n",
       "      <td>0</td>\n",
       "      <td>1</td>\n",
       "      <td>1</td>\n",
       "      <td>1</td>\n",
       "      <td>1</td>\n",
       "      <td>3498895</td>\n",
       "    </tr>\n",
       "  </tbody>\n",
       "</table>\n",
       "<p>5 rows × 24 columns</p>\n",
       "</div>"
      ],
      "text/plain": [
       "      h_type location       society   size  bathroom  balcony  total_sqft  \\\n",
       "0  apartment   Maneja  Bakeri Swara  3 BHK         3        1      1550.0   \n",
       "1  apartment   Maneja  Bakeri Swara  3 BHK         3        1      1550.0   \n",
       "2  apartment   Maneja  Bakeri Swara  3 BHK         3        1      1860.0   \n",
       "3  apartment   Maneja  Bakeri Swara  2 BHK         2        1      1015.0   \n",
       "4  apartment   Maneja  Bakeri Swara  2 BHK         2        1      1210.0   \n",
       "\n",
       "   yr_built  furniture sale_type  ...  college  hospital  population  railway  \\\n",
       "0    2011.0          0       new  ...        0         1           2        0   \n",
       "1    2012.0          1       new  ...        0         1           2        0   \n",
       "2    2010.0          1       new  ...        0         1           2        0   \n",
       "3    2016.0          1       new  ...        0         1           2        0   \n",
       "4    2019.0          0       new  ...        0         1           2        0   \n",
       "\n",
       "   airport  on_road  air_quality  restaurant  park    price  \n",
       "0        0        1            1           1     1  4361705  \n",
       "1        0        1            1           1     1  5001905  \n",
       "2        0        1            1           1     1  5588795  \n",
       "3        0        1            1           1     1  3184740  \n",
       "4        0        1            1           1     1  3498895  \n",
       "\n",
       "[5 rows x 24 columns]"
      ]
     },
     "execution_count": 2,
     "metadata": {},
     "output_type": "execute_result"
    }
   ],
   "source": [
    "vadodara=pd.read_csv(r\"C:\\Users\\PRIYA\\WINDOWS FILE\\Desktop\\DATASCIENCE\\CASE STUDY\\vadodara price prediction\\vadodara_house_price_dataset_new.csv\")\n",
    "vadodara.head()"
   ]
  },
  {
   "cell_type": "code",
   "execution_count": 3,
   "metadata": {},
   "outputs": [
    {
     "data": {
      "text/plain": [
       "<matplotlib.axes._subplots.AxesSubplot at 0x156400f3190>"
      ]
     },
     "execution_count": 3,
     "metadata": {},
     "output_type": "execute_result"
    },
    {
     "data": {
      "image/png": "[encoded data removed]",
      "text/plain": [
       "<Figure size 432x288 with 1 Axes>"
      ]
     },
     "metadata": {
      "needs_background": "light"
     },
     "output_type": "display_data"
    }
   ],
   "source": [
    "sns.heatmap(vadodara.isnull(),cbar=False)"
   ]
  },
  {
   "cell_type": "code",
   "execution_count": 4,
   "metadata": {},
   "outputs": [
    {
     "data": {
      "text/html": [
       "<div>\n",
       "<style scoped>\n",
       "    .dataframe tbody tr th:only-of-type {\n",
       "        vertical-align: middle;\n",
       "    }\n",
       "\n",
       "    .dataframe tbody tr th {\n",
       "        vertical-align: top;\n",
       "    }\n",
       "\n",
       "    .dataframe thead th {\n",
       "        text-align: right;\n",
       "    }\n",
       "</style>\n",
       "<table border=\"1\" class=\"dataframe\">\n",
       "  <thead>\n",
       "    <tr style=\"text-align: right;\">\n",
       "      <th></th>\n",
       "      <th>bathroom</th>\n",
       "      <th>balcony</th>\n",
       "      <th>total_sqft</th>\n",
       "      <th>yr_built</th>\n",
       "      <th>furniture</th>\n",
       "      <th>amenities</th>\n",
       "      <th>market</th>\n",
       "      <th>office</th>\n",
       "      <th>school</th>\n",
       "      <th>college</th>\n",
       "      <th>hospital</th>\n",
       "      <th>population</th>\n",
       "      <th>railway</th>\n",
       "      <th>airport</th>\n",
       "      <th>on_road</th>\n",
       "      <th>air_quality</th>\n",
       "      <th>restaurant</th>\n",
       "      <th>park</th>\n",
       "      <th>price</th>\n",
       "    </tr>\n",
       "  </thead>\n",
       "  <tbody>\n",
       "    <tr>\n",
       "      <th>count</th>\n",
       "      <td>340.000000</td>\n",
       "      <td>340.000000</td>\n",
       "      <td>340.000000</td>\n",
       "      <td>151.000000</td>\n",
       "      <td>340.000000</td>\n",
       "      <td>340.000000</td>\n",
       "      <td>340.0</td>\n",
       "      <td>340.000000</td>\n",
       "      <td>340.000000</td>\n",
       "      <td>340.000000</td>\n",
       "      <td>340.000000</td>\n",
       "      <td>340.000000</td>\n",
       "      <td>340.000000</td>\n",
       "      <td>340.000000</td>\n",
       "      <td>340.000000</td>\n",
       "      <td>340.0</td>\n",
       "      <td>340.0</td>\n",
       "      <td>340.000000</td>\n",
       "      <td>3.400000e+02</td>\n",
       "    </tr>\n",
       "    <tr>\n",
       "      <th>mean</th>\n",
       "      <td>2.629412</td>\n",
       "      <td>1.564706</td>\n",
       "      <td>1477.644735</td>\n",
       "      <td>2016.827815</td>\n",
       "      <td>0.382353</td>\n",
       "      <td>0.835294</td>\n",
       "      <td>1.0</td>\n",
       "      <td>0.932353</td>\n",
       "      <td>0.900000</td>\n",
       "      <td>0.279412</td>\n",
       "      <td>0.970588</td>\n",
       "      <td>0.997059</td>\n",
       "      <td>0.167647</td>\n",
       "      <td>0.111765</td>\n",
       "      <td>0.567647</td>\n",
       "      <td>1.0</td>\n",
       "      <td>1.0</td>\n",
       "      <td>0.647059</td>\n",
       "      <td>5.528375e+06</td>\n",
       "    </tr>\n",
       "    <tr>\n",
       "      <th>std</th>\n",
       "      <td>0.930166</td>\n",
       "      <td>0.917828</td>\n",
       "      <td>721.120773</td>\n",
       "      <td>3.612500</td>\n",
       "      <td>0.486678</td>\n",
       "      <td>0.625836</td>\n",
       "      <td>0.0</td>\n",
       "      <td>0.251509</td>\n",
       "      <td>0.300442</td>\n",
       "      <td>0.449372</td>\n",
       "      <td>0.169207</td>\n",
       "      <td>0.236725</td>\n",
       "      <td>0.374103</td>\n",
       "      <td>0.315541</td>\n",
       "      <td>0.496133</td>\n",
       "      <td>0.0</td>\n",
       "      <td>0.0</td>\n",
       "      <td>0.478589</td>\n",
       "      <td>5.053439e+06</td>\n",
       "    </tr>\n",
       "    <tr>\n",
       "      <th>min</th>\n",
       "      <td>0.000000</td>\n",
       "      <td>0.000000</td>\n",
       "      <td>330.000000</td>\n",
       "      <td>2000.000000</td>\n",
       "      <td>0.000000</td>\n",
       "      <td>0.000000</td>\n",
       "      <td>1.0</td>\n",
       "      <td>0.000000</td>\n",
       "      <td>0.000000</td>\n",
       "      <td>0.000000</td>\n",
       "      <td>0.000000</td>\n",
       "      <td>0.000000</td>\n",
       "      <td>0.000000</td>\n",
       "      <td>0.000000</td>\n",
       "      <td>0.000000</td>\n",
       "      <td>1.0</td>\n",
       "      <td>1.0</td>\n",
       "      <td>0.000000</td>\n",
       "      <td>7.000000e+05</td>\n",
       "    </tr>\n",
       "    <tr>\n",
       "      <th>25%</th>\n",
       "      <td>2.000000</td>\n",
       "      <td>1.000000</td>\n",
       "      <td>1031.500000</td>\n",
       "      <td>2015.000000</td>\n",
       "      <td>0.000000</td>\n",
       "      <td>0.000000</td>\n",
       "      <td>1.0</td>\n",
       "      <td>1.000000</td>\n",
       "      <td>1.000000</td>\n",
       "      <td>0.000000</td>\n",
       "      <td>1.000000</td>\n",
       "      <td>1.000000</td>\n",
       "      <td>0.000000</td>\n",
       "      <td>0.000000</td>\n",
       "      <td>0.000000</td>\n",
       "      <td>1.0</td>\n",
       "      <td>1.0</td>\n",
       "      <td>0.000000</td>\n",
       "      <td>2.740750e+06</td>\n",
       "    </tr>\n",
       "    <tr>\n",
       "      <th>50%</th>\n",
       "      <td>3.000000</td>\n",
       "      <td>1.000000</td>\n",
       "      <td>1329.500000</td>\n",
       "      <td>2018.000000</td>\n",
       "      <td>0.000000</td>\n",
       "      <td>1.000000</td>\n",
       "      <td>1.0</td>\n",
       "      <td>1.000000</td>\n",
       "      <td>1.000000</td>\n",
       "      <td>0.000000</td>\n",
       "      <td>1.000000</td>\n",
       "      <td>1.000000</td>\n",
       "      <td>0.000000</td>\n",
       "      <td>0.000000</td>\n",
       "      <td>1.000000</td>\n",
       "      <td>1.0</td>\n",
       "      <td>1.0</td>\n",
       "      <td>1.000000</td>\n",
       "      <td>4.095500e+06</td>\n",
       "    </tr>\n",
       "    <tr>\n",
       "      <th>75%</th>\n",
       "      <td>3.000000</td>\n",
       "      <td>2.000000</td>\n",
       "      <td>1750.000000</td>\n",
       "      <td>2019.000000</td>\n",
       "      <td>1.000000</td>\n",
       "      <td>1.000000</td>\n",
       "      <td>1.0</td>\n",
       "      <td>1.000000</td>\n",
       "      <td>1.000000</td>\n",
       "      <td>1.000000</td>\n",
       "      <td>1.000000</td>\n",
       "      <td>1.000000</td>\n",
       "      <td>0.000000</td>\n",
       "      <td>0.000000</td>\n",
       "      <td>1.000000</td>\n",
       "      <td>1.0</td>\n",
       "      <td>1.0</td>\n",
       "      <td>1.000000</td>\n",
       "      <td>6.395000e+06</td>\n",
       "    </tr>\n",
       "    <tr>\n",
       "      <th>max</th>\n",
       "      <td>6.000000</td>\n",
       "      <td>5.000000</td>\n",
       "      <td>5241.000000</td>\n",
       "      <td>2024.000000</td>\n",
       "      <td>1.000000</td>\n",
       "      <td>2.000000</td>\n",
       "      <td>1.0</td>\n",
       "      <td>1.000000</td>\n",
       "      <td>1.000000</td>\n",
       "      <td>1.000000</td>\n",
       "      <td>1.000000</td>\n",
       "      <td>2.000000</td>\n",
       "      <td>1.000000</td>\n",
       "      <td>1.000000</td>\n",
       "      <td>1.000000</td>\n",
       "      <td>1.0</td>\n",
       "      <td>1.0</td>\n",
       "      <td>1.000000</td>\n",
       "      <td>4.000000e+07</td>\n",
       "    </tr>\n",
       "  </tbody>\n",
       "</table>\n",
       "</div>"
      ],
      "text/plain": [
       "         bathroom     balcony   total_sqft     yr_built   furniture  \\\n",
       "count  340.000000  340.000000   340.000000   151.000000  340.000000   \n",
       "mean     2.629412    1.564706  1477.644735  2016.827815    0.382353   \n",
       "std      0.930166    0.917828   721.120773     3.612500    0.486678   \n",
       "min      0.000000    0.000000   330.000000  2000.000000    0.000000   \n",
       "25%      2.000000    1.000000  1031.500000  2015.000000    0.000000   \n",
       "50%      3.000000    1.000000  1329.500000  2018.000000    0.000000   \n",
       "75%      3.000000    2.000000  1750.000000  2019.000000    1.000000   \n",
       "max      6.000000    5.000000  5241.000000  2024.000000    1.000000   \n",
       "\n",
       "        amenities  market      office      school     college    hospital  \\\n",
       "count  340.000000   340.0  340.000000  340.000000  340.000000  340.000000   \n",
       "mean     0.835294     1.0    0.932353    0.900000    0.279412    0.970588   \n",
       "std      0.625836     0.0    0.251509    0.300442    0.449372    0.169207   \n",
       "min      0.000000     1.0    0.000000    0.000000    0.000000    0.000000   \n",
       "25%      0.000000     1.0    1.000000    1.000000    0.000000    1.000000   \n",
       "50%      1.000000     1.0    1.000000    1.000000    0.000000    1.000000   \n",
       "75%      1.000000     1.0    1.000000    1.000000    1.000000    1.000000   \n",
       "max      2.000000     1.0    1.000000    1.000000    1.000000    1.000000   \n",
       "\n",
       "       population     railway     airport     on_road  air_quality  \\\n",
       "count  340.000000  340.000000  340.000000  340.000000        340.0   \n",
       "mean     0.997059    0.167647    0.111765    0.567647          1.0   \n",
       "std      0.236725    0.374103    0.315541    0.496133          0.0   \n",
       "min      0.000000    0.000000    0.000000    0.000000          1.0   \n",
       "25%      1.000000    0.000000    0.000000    0.000000          1.0   \n",
       "50%      1.000000    0.000000    0.000000    1.000000          1.0   \n",
       "75%      1.000000    0.000000    0.000000    1.000000          1.0   \n",
       "max      2.000000    1.000000    1.000000    1.000000          1.0   \n",
       "\n",
       "       restaurant        park         price  \n",
       "count       340.0  340.000000  3.400000e+02  \n",
       "mean          1.0    0.647059  5.528375e+06  \n",
       "std           0.0    0.478589  5.053439e+06  \n",
       "min           1.0    0.000000  7.000000e+05  \n",
       "25%           1.0    0.000000  2.740750e+06  \n",
       "50%           1.0    1.000000  4.095500e+06  \n",
       "75%           1.0    1.000000  6.395000e+06  \n",
       "max           1.0    1.000000  4.000000e+07  "
      ]
     },
     "execution_count": 4,
     "metadata": {},
     "output_type": "execute_result"
    }
   ],
   "source": [
    "vadodara.describe()"
   ]
  },
  {
   "cell_type": "code",
   "execution_count": 5,
   "metadata": {},
   "outputs": [
    {
     "data": {
      "text/plain": [
       "(340, 24)"
      ]
     },
     "execution_count": 5,
     "metadata": {},
     "output_type": "execute_result"
    }
   ],
   "source": [
    "vadodara.shape"
   ]
  },
  {
   "cell_type": "code",
   "execution_count": 6,
   "metadata": {},
   "outputs": [],
   "source": [
    "vadodara=vadodara.drop([\"yr_built\",\"society\",\"office\",\"school\",\"college\",\"hospital\",\"population\",\"railway\",\"airport\",\"on_road\",\"air_quality\",\"restaurant\",\"park\",\"furniture\",\"sale_type\",\"amenities\",\"market\"],axis=1)"
   ]
  },
  {
   "cell_type": "code",
   "execution_count": 7,
   "metadata": {},
   "outputs": [
    {
     "data": {
      "text/plain": [
       "(340, 7)"
      ]
     },
     "execution_count": 7,
     "metadata": {},
     "output_type": "execute_result"
    }
   ],
   "source": [
    "vadodara.shape"
   ]
  },
  {
   "cell_type": "code",
   "execution_count": 8,
   "metadata": {
    "scrolled": true
   },
   "outputs": [
    {
     "data": {
      "text/html": [
       "<div>\n",
       "<style scoped>\n",
       "    .dataframe tbody tr th:only-of-type {\n",
       "        vertical-align: middle;\n",
       "    }\n",
       "\n",
       "    .dataframe tbody tr th {\n",
       "        vertical-align: top;\n",
       "    }\n",
       "\n",
       "    .dataframe thead th {\n",
       "        text-align: right;\n",
       "    }\n",
       "</style>\n",
       "<table border=\"1\" class=\"dataframe\">\n",
       "  <thead>\n",
       "    <tr style=\"text-align: right;\">\n",
       "      <th></th>\n",
       "      <th>h_type</th>\n",
       "      <th>location</th>\n",
       "      <th>size</th>\n",
       "      <th>bathroom</th>\n",
       "      <th>balcony</th>\n",
       "      <th>total_sqft</th>\n",
       "      <th>price</th>\n",
       "    </tr>\n",
       "  </thead>\n",
       "  <tbody>\n",
       "    <tr>\n",
       "      <th>0</th>\n",
       "      <td>apartment</td>\n",
       "      <td>Maneja</td>\n",
       "      <td>3 BHK</td>\n",
       "      <td>3</td>\n",
       "      <td>1</td>\n",
       "      <td>1550.0</td>\n",
       "      <td>4361705</td>\n",
       "    </tr>\n",
       "    <tr>\n",
       "      <th>1</th>\n",
       "      <td>apartment</td>\n",
       "      <td>Maneja</td>\n",
       "      <td>3 BHK</td>\n",
       "      <td>3</td>\n",
       "      <td>1</td>\n",
       "      <td>1550.0</td>\n",
       "      <td>5001905</td>\n",
       "    </tr>\n",
       "    <tr>\n",
       "      <th>2</th>\n",
       "      <td>apartment</td>\n",
       "      <td>Maneja</td>\n",
       "      <td>3 BHK</td>\n",
       "      <td>3</td>\n",
       "      <td>1</td>\n",
       "      <td>1860.0</td>\n",
       "      <td>5588795</td>\n",
       "    </tr>\n",
       "    <tr>\n",
       "      <th>3</th>\n",
       "      <td>apartment</td>\n",
       "      <td>Maneja</td>\n",
       "      <td>2 BHK</td>\n",
       "      <td>2</td>\n",
       "      <td>1</td>\n",
       "      <td>1015.0</td>\n",
       "      <td>3184740</td>\n",
       "    </tr>\n",
       "    <tr>\n",
       "      <th>4</th>\n",
       "      <td>apartment</td>\n",
       "      <td>Maneja</td>\n",
       "      <td>2 BHK</td>\n",
       "      <td>2</td>\n",
       "      <td>1</td>\n",
       "      <td>1210.0</td>\n",
       "      <td>3498895</td>\n",
       "    </tr>\n",
       "  </tbody>\n",
       "</table>\n",
       "</div>"
      ],
      "text/plain": [
       "      h_type location   size  bathroom  balcony  total_sqft    price\n",
       "0  apartment   Maneja  3 BHK         3        1      1550.0  4361705\n",
       "1  apartment   Maneja  3 BHK         3        1      1550.0  5001905\n",
       "2  apartment   Maneja  3 BHK         3        1      1860.0  5588795\n",
       "3  apartment   Maneja  2 BHK         2        1      1015.0  3184740\n",
       "4  apartment   Maneja  2 BHK         2        1      1210.0  3498895"
      ]
     },
     "execution_count": 8,
     "metadata": {},
     "output_type": "execute_result"
    }
   ],
   "source": [
    "vadodara.head()"
   ]
  },
  {
   "cell_type": "code",
   "execution_count": 9,
   "metadata": {},
   "outputs": [],
   "source": [
    "#dealing with the categorical variables.\n",
    "labelencoder=LabelEncoder()\n",
    "#encoding category features.\n",
    "vadodara.iloc[:,0]=labelencoder.fit_transform(vadodara.iloc[:,0].values)\n",
    "vadodara.iloc[:,1]=labelencoder.fit_transform(vadodara.iloc[:,1].values)\n",
    "vadodara.iloc[:,2]=labelencoder.fit_transform(vadodara.iloc[:,2].values)"
   ]
  },
  {
   "cell_type": "code",
   "execution_count": 10,
   "metadata": {},
   "outputs": [],
   "source": [
    "#splitting the data\n",
    "A=vadodara.iloc[:250,:]#training\n",
    "B=vadodara.iloc[250:,:]#test"
   ]
  },
  {
   "cell_type": "code",
   "execution_count": 11,
   "metadata": {},
   "outputs": [
    {
     "name": "stderr",
     "output_type": "stream",
     "text": [
      "C:\\ProgramData\\Anaconda3\\lib\\site-packages\\pandas\\core\\frame.py:3990: SettingWithCopyWarning: \n",
      "A value is trying to be set on a copy of a slice from a DataFrame\n",
      "\n",
      "See the caveats in the documentation: https://pandas.pydata.org/pandas-docs/stable/user_guide/indexing.html#returning-a-view-versus-a-copy\n",
      "  return super().drop(\n"
     ]
    }
   ],
   "source": [
    "B.drop([\"price\"],axis=1,inplace=True)"
   ]
  },
  {
   "cell_type": "code",
   "execution_count": 12,
   "metadata": {},
   "outputs": [
    {
     "data": {
      "text/plain": [
       "((250, 7), (90, 6))"
      ]
     },
     "execution_count": 12,
     "metadata": {},
     "output_type": "execute_result"
    }
   ],
   "source": [
    "A.shape,B.shape"
   ]
  },
  {
   "cell_type": "code",
   "execution_count": 13,
   "metadata": {},
   "outputs": [],
   "source": [
    "#in training data splitting test,train split\n",
    "x_train=A.drop([\"price\"],axis=1)\n",
    "y_train=A['price']"
   ]
  },
  {
   "cell_type": "code",
   "execution_count": 14,
   "metadata": {},
   "outputs": [
    {
     "data": {
      "text/plain": [
       "RandomForestRegressor()"
      ]
     },
     "execution_count": 14,
     "metadata": {},
     "output_type": "execute_result"
    }
   ],
   "source": [
    "#random forest regressor\n",
    "forest=RandomForestRegressor()\n",
    "forest.fit(x_train,y_train)"
   ]
  },
  {
   "cell_type": "code",
   "execution_count": 15,
   "metadata": {},
   "outputs": [
    {
     "data": {
      "text/plain": [
       "0.9352102430011118"
      ]
     },
     "execution_count": 15,
     "metadata": {},
     "output_type": "execute_result"
    }
   ],
   "source": [
    "forest.score(x_train,y_train)"
   ]
  },
  {
   "cell_type": "code",
   "execution_count": 16,
   "metadata": {},
   "outputs": [],
   "source": [
    "y_pred=forest.predict(B)"
   ]
  },
  {
   "cell_type": "code",
   "execution_count": 17,
   "metadata": {},
   "outputs": [
    {
     "data": {
      "text/plain": [
       "array([ 9142852.52      ,  3341340.        ,  4377958.95      ,\n",
       "        6388003.85      ,  2603022.5       ,  2995285.85      ,\n",
       "        2328037.4       ,  5291375.85      ,  2543346.35      ,\n",
       "        5357760.        ,  5075120.        ,  4688650.        ,\n",
       "        5993060.        ,  6236660.        ,  6906790.        ,\n",
       "        2929603.33333333,  6774600.        ,  3097990.        ,\n",
       "        2861610.        ,  2590606.66666667,  3090125.61666667,\n",
       "        2834210.        ,  3007120.        ,  2693523.33333333,\n",
       "        6463730.        ,  3756730.        ,  3818851.35      ,\n",
       "        6049450.        , 28005631.68      ,  4020275.1       ,\n",
       "        1744575.        ,  1723935.        ,  4170770.        ,\n",
       "       11753747.56      , 16395710.        ,  6796210.84      ,\n",
       "        3626841.1       ,  3188341.15      , 11435971.76      ,\n",
       "       20963280.84      ,  3208910.        ,  4477758.25      ,\n",
       "        6305797.7       ,  7757953.6       ,  2373520.        ,\n",
       "        3328540.        , 14801180.92      ,  4734072.25      ,\n",
       "        4971390.3       ,  9866859.48      ,  2682408.63333333,\n",
       "        4227947.95      ,  7451429.89      ,  2497122.2       ,\n",
       "        6202010.84      ,  3026804.55      ,  1628790.        ,\n",
       "        2747585.6       ,  2709181.4       ,  2793170.6       ,\n",
       "        6327880.84      , 12925570.        ,  5936190.        ,\n",
       "        8579790.        ,  9208850.84      ,  2655700.        ,\n",
       "        2874390.        ,  6463880.        ,  6194060.        ,\n",
       "        9790980.        ,  9592370.        ,  6595570.        ,\n",
       "        8964490.84      ,  6784710.        ,  3379530.        ,\n",
       "        6453450.        ,  7761810.        ,  3005600.        ,\n",
       "       25304500.        ,  2884885.        , 10036940.84      ,\n",
       "        5397490.4       ,  4748060.8       ,  6834345.16      ,\n",
       "        5318230.        ,  5541940.        ,  5673820.        ,\n",
       "        4271991.85      ,  4185770.        ,  3235333.7       ])"
      ]
     },
     "execution_count": 17,
     "metadata": {},
     "output_type": "execute_result"
    }
   ],
   "source": [
    "y_pred"
   ]
  },
  {
   "cell_type": "markdown",
   "metadata": {},
   "source": [
    "# Gradientboost regressor"
   ]
  },
  {
   "cell_type": "code",
   "execution_count": 18,
   "metadata": {},
   "outputs": [
    {
     "data": {
      "text/plain": [
       "GradientBoostingRegressor(learning_rate=0.5, max_depth=4)"
      ]
     },
     "execution_count": 18,
     "metadata": {},
     "output_type": "execute_result"
    }
   ],
   "source": [
    "from sklearn.ensemble import GradientBoostingRegressor\n",
    "gradientregressor=GradientBoostingRegressor(max_depth=4,n_estimators=100,learning_rate=0.5)\n",
    "gradientregressor.fit(x_train,y_train)"
   ]
  },
  {
   "cell_type": "code",
   "execution_count": 19,
   "metadata": {},
   "outputs": [
    {
     "data": {
      "text/plain": [
       "0.9996178318947478"
      ]
     },
     "execution_count": 19,
     "metadata": {},
     "output_type": "execute_result"
    }
   ],
   "source": [
    "gradientregressor.score(x_train,y_train)"
   ]
  },
  {
   "cell_type": "code",
   "execution_count": 20,
   "metadata": {},
   "outputs": [
    {
     "data": {
      "text/plain": [
       "array([ 9969754.83161206,  4596410.72396002,  4962462.87206519,\n",
       "        6023305.35546097,  3015785.86744079,  3176071.30605862,\n",
       "        3157725.52015027,  6782389.94821071,  2935452.66553707,\n",
       "        6196546.41132744,  4130834.28521655,  4411466.9891556 ,\n",
       "        5292219.57831317,  5876715.29910268,  8554346.66557162,\n",
       "        3040365.92958028,  7556256.04297248,  3491148.25543489,\n",
       "        1730209.0023477 ,  2617156.83512439,  2182786.1762767 ,\n",
       "        1623456.26032773,  3457679.07222535,  2046640.78180139,\n",
       "        6608545.65555387,  6484664.37642474,  3743305.43026549,\n",
       "        5325273.51746972, 29603427.72079269,  4300187.97396953,\n",
       "        2052461.0871444 ,  2098919.22041311,  4226573.55017077,\n",
       "        9142036.72484441, 17765207.39099828,  8892589.24616044,\n",
       "        3785294.45899168,  2198575.31173827, 10039642.53838564,\n",
       "       13228584.79168392,  2809610.18081521,  2631810.91917261,\n",
       "        4954074.80670176,  8916832.00638894,  2535629.39852177,\n",
       "        3514399.51649948, 12514134.21416866,  4548521.71155137,\n",
       "        3243748.97841554,  7029149.16453355,  2251284.21746853,\n",
       "        3808308.0042066 ,  4652038.33412781,  2463191.57942761,\n",
       "        6295613.43289354,  2454979.18070947,  1642714.84842818,\n",
       "        2988526.37735983,  2864543.09101719,  2748326.03152489,\n",
       "        5953638.763327  , 13455916.9563374 ,  7842048.92383716,\n",
       "        7076629.24213509,  9386746.75258697,  2179212.3843634 ,\n",
       "        2079132.58670706,  6406809.07122093,  8333269.28060403,\n",
       "        8552774.39708884,  7347363.42706857,  5759182.64291503,\n",
       "        8109305.83805531,  6892873.84436365,  4241891.91478832,\n",
       "        7858992.90925646,  9735663.91278904,  5734303.6713993 ,\n",
       "       27383406.4151781 ,  3345848.80483461,  7539162.16516427,\n",
       "        4218300.95511258,  3766890.98188802,  6098254.2663107 ,\n",
       "        4330555.29244289,  4416770.80245073,  5517997.43952951,\n",
       "        7101375.24490253,  6236200.96099285,  2578196.75146098])"
      ]
     },
     "execution_count": 20,
     "metadata": {},
     "output_type": "execute_result"
    }
   ],
   "source": [
    "y_pred2=gradientregressor.predict(B)\n",
    "y_pred2"
   ]
  },
  {
   "cell_type": "markdown",
   "metadata": {},
   "source": [
    "# accuracy increased with gradient boosting"
   ]
  },
  {
   "cell_type": "code",
   "execution_count": 21,
   "metadata": {},
   "outputs": [],
   "source": [
    "import pickle\n",
    "filename = 'vadodara1_house_model_gradient.pkl'\n",
    "pickle.dump(gradientregressor, open(filename, 'wb'))"
   ]
  },
  {
   "cell_type": "code",
   "execution_count": null,
   "metadata": {},
   "outputs": [],
   "source": []
  }
 ],
 "metadata": {
  "kernelspec": {
   "display_name": "Python 3",
   "language": "python",
   "name": "python3"
  },
  "language_info": {
   "codemirror_mode": {
    "name": "ipython",
    "version": 3
   },
   "file_extension": ".py",
   "mimetype": "text/x-python",
   "name": "python",
   "nbconvert_exporter": "python",
   "pygments_lexer": "ipython3",
   "version": "3.8.3"
  }
 },
 "nbformat": 4,
 "nbformat_minor": 4
}
